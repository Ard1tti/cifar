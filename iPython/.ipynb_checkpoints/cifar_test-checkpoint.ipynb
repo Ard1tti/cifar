{
 "cells": [
  {
   "cell_type": "code",
   "execution_count": 1,
   "metadata": {
    "collapsed": true
   },
   "outputs": [],
   "source": [
    "import os\n",
    "os.chdir('../src')"
   ]
  },
  {
   "cell_type": "code",
   "execution_count": 4,
   "metadata": {
    "collapsed": false
   },
   "outputs": [
    {
     "name": "stdout",
     "output_type": "stream",
     "text": [
      "Model, ResInception_cifar10 restored\n",
      "test accuracy 0.842\n",
      "test accuracy 0.86\n",
      "test accuracy 0.838\n",
      "test accuracy 0.836\n",
      "test accuracy 0.855\n",
      "test accuracy 0.837\n",
      "test accuracy 0.859\n",
      "test accuracy 0.82\n",
      "test accuracy 0.847\n",
      "test accuracy 0.847\n",
      "highest accuracy: 0.86\n"
     ]
    }
   ],
   "source": [
    "from cifar_input import cifar10_input\n",
    "import ResInception_cifar10 as model\n",
    "import tensorflow as tf\n",
    "\n",
    "CKPT_DIR = \"../ckpt/\"\n",
    "EVAL_SIZE = 1000\n",
    "\n",
    "with tf.Graph().as_default(), tf.device(\"/cpu:0\"):\n",
    "        train_data, test_data = cifar10_input()\n",
    "        \n",
    "        images, labels = test_data.dist_batch(EVAL_SIZE, 4000)\n",
    "\n",
    "        keep_prob = tf.placeholder(tf.float32)\n",
    "        lr = tf.placeholder(tf.float32)\n",
    "\n",
    "        logit = model.inference(images, keep_prob, False, False)\n",
    "        accuracy = tf.reduce_mean(tf.cast(tf.nn.in_top_k(logit, labels, 1),tf.float32))        \n",
    "\n",
    "        saver = tf.train.Saver()\n",
    "        sess = tf.Session()\n",
    "        highest = 0.\n",
    "    \n",
    "        saver.restore(sess, CKPT_DIR+model.__name__+\".ckpt\")\n",
    "        print(\"Model, \"+model.__name__+\" restored\")\n",
    "        tf.train.start_queue_runners(sess=sess)\n",
    "\n",
    "        for i in range(10):\n",
    "            eval_accuracy = sess.run(accuracy, feed_dict={keep_prob : 1.0})\n",
    "            if eval_accuracy > highest:\n",
    "                highest = eval_accuracy\n",
    "            print(\"test accuracy %g\"%(eval_accuracy))\n",
    "                \n",
    "        print(\"highest accuracy: %g\"%(highest))"
   ]
  },
  {
   "cell_type": "code",
   "execution_count": null,
   "metadata": {
    "collapsed": true
   },
   "outputs": [],
   "source": []
  }
 ],
 "metadata": {
  "kernelspec": {
   "display_name": "Python 2",
   "language": "python",
   "name": "python2"
  },
  "language_info": {
   "codemirror_mode": {
    "name": "ipython",
    "version": 2
   },
   "file_extension": ".py",
   "mimetype": "text/x-python",
   "name": "python",
   "nbconvert_exporter": "python",
   "pygments_lexer": "ipython2",
   "version": "2.7.6"
  }
 },
 "nbformat": 4,
 "nbformat_minor": 0
}
