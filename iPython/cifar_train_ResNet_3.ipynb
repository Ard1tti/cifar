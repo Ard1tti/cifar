{
 "cells": [
  {
   "cell_type": "code",
   "execution_count": 1,
   "metadata": {
    "collapsed": false
   },
   "outputs": [],
   "source": [
    "import os\n",
    "os.chdir('/home/blueconet/Downloads/Image Classification/src')"
   ]
  },
  {
   "cell_type": "code",
   "execution_count": 2,
   "metadata": {
    "collapsed": false
   },
   "outputs": [],
   "source": [
    "from cifar_input import cifar10_input\n",
    "import ResNet_cifar10_3 as model\n",
    "import tensorflow as tf\n",
    "\n",
    "BATCH_SIZE=16\n",
    "EVAL_SIZE=1000\n",
    "NUM_GPUS=8\n",
    "\n",
    "def tower_loss(batch, scope, keep_prob, reuse):\n",
    "    images, labels = batch\n",
    "    \n",
    "    logits = model.inference(images, keep_prob, True, reuse)\n",
    "    _ = model.loss(logits, labels)\n",
    "    \n",
    "    losses = tf.get_collection('losses', scope)\n",
    "    \n",
    "    total_loss = tf.add_n(losses, name='total_loss')\n",
    "    return total_loss\n",
    "\n",
    "def average_grads(list_grads):\n",
    "    grads = []\n",
    "    for i in range(len(list_grads[0])):\n",
    "        if list_grads[0][i][0] is None:\n",
    "            grads.append((None, list_grads[0][i][1]))\n",
    "        else:\n",
    "            grads.append((tf.reduce_mean([list_grads[j][i][0] for j in range(len(list_grads))],[0]),\n",
    "                         list_grads[0][i][1]))\n",
    "    return grads"
   ]
  },
  {
   "cell_type": "code",
   "execution_count": 3,
   "metadata": {
    "collapsed": true
   },
   "outputs": [
    {
     "ename": "KeyboardInterrupt",
     "evalue": "",
     "output_type": "error",
     "traceback": [
      "\u001b[0;31m---------------------------------------------------------------------------\u001b[0m",
      "\u001b[0;31mKeyboardInterrupt\u001b[0m                         Traceback (most recent call last)",
      "\u001b[0;32m<ipython-input-3-2c2a778daa10>\u001b[0m in \u001b[0;36m<module>\u001b[0;34m()\u001b[0m\n\u001b[1;32m      1\u001b[0m \u001b[0;32mwith\u001b[0m \u001b[0mtf\u001b[0m\u001b[0;34m.\u001b[0m\u001b[0mGraph\u001b[0m\u001b[0;34m(\u001b[0m\u001b[0;34m)\u001b[0m\u001b[0;34m.\u001b[0m\u001b[0mas_default\u001b[0m\u001b[0;34m(\u001b[0m\u001b[0;34m)\u001b[0m\u001b[0;34m,\u001b[0m \u001b[0mtf\u001b[0m\u001b[0;34m.\u001b[0m\u001b[0mdevice\u001b[0m\u001b[0;34m(\u001b[0m\u001b[0;34m\"/cpu:0\"\u001b[0m\u001b[0;34m)\u001b[0m\u001b[0;34m:\u001b[0m\u001b[0;34m\u001b[0m\u001b[0m\n\u001b[0;32m----> 2\u001b[0;31m     \u001b[0mtrain_data\u001b[0m\u001b[0;34m,\u001b[0m \u001b[0mtest_data\u001b[0m \u001b[0;34m=\u001b[0m \u001b[0mcifar10_input\u001b[0m\u001b[0;34m(\u001b[0m\u001b[0;34m)\u001b[0m\u001b[0;34m\u001b[0m\u001b[0m\n\u001b[0m\u001b[1;32m      3\u001b[0m \u001b[0;34m\u001b[0m\u001b[0m\n\u001b[1;32m      4\u001b[0m     \u001b[0mx\u001b[0m\u001b[0;34m,\u001b[0m \u001b[0my_\u001b[0m \u001b[0;34m=\u001b[0m \u001b[0mtrain_data\u001b[0m\u001b[0;34m.\u001b[0m\u001b[0mdist_batch\u001b[0m\u001b[0;34m(\u001b[0m\u001b[0mBATCH_SIZE\u001b[0m\u001b[0;34m,\u001b[0m\u001b[0;36m20000\u001b[0m\u001b[0;34m)\u001b[0m\u001b[0;34m\u001b[0m\u001b[0m\n\u001b[1;32m      5\u001b[0m     \u001b[0mtest_batch\u001b[0m \u001b[0;34m=\u001b[0m \u001b[0mtest_data\u001b[0m\u001b[0;34m.\u001b[0m\u001b[0mbatch\u001b[0m\u001b[0;34m(\u001b[0m\u001b[0;36m200\u001b[0m\u001b[0;34m)\u001b[0m\u001b[0;34m\u001b[0m\u001b[0m\n",
      "\u001b[0;32m/home/blueconet/Downloads/Image Classification/cifar_input.pyc\u001b[0m in \u001b[0;36mcifar10_input\u001b[0;34m()\u001b[0m\n\u001b[1;32m     84\u001b[0m     \u001b[0;32mfor\u001b[0m \u001b[0mi\u001b[0m \u001b[0;32min\u001b[0m \u001b[0mrange\u001b[0m\u001b[0;34m(\u001b[0m\u001b[0;36m4\u001b[0m\u001b[0;34m)\u001b[0m\u001b[0;34m:\u001b[0m\u001b[0;34m\u001b[0m\u001b[0m\n\u001b[1;32m     85\u001b[0m         \u001b[0;32mwith\u001b[0m \u001b[0mopen\u001b[0m\u001b[0;34m(\u001b[0m\u001b[0mFILE_DIR_10\u001b[0m\u001b[0;34m+\u001b[0m\u001b[0;34m\"/data_batch_\"\u001b[0m\u001b[0;34m+\u001b[0m\u001b[0mstr\u001b[0m\u001b[0;34m(\u001b[0m\u001b[0mi\u001b[0m\u001b[0;34m+\u001b[0m\u001b[0;36m2\u001b[0m\u001b[0;34m)\u001b[0m\u001b[0;34m,\u001b[0m \u001b[0;34m'rb'\u001b[0m\u001b[0;34m)\u001b[0m \u001b[0;32mas\u001b[0m \u001b[0mf\u001b[0m\u001b[0;34m:\u001b[0m\u001b[0;34m\u001b[0m\u001b[0m\n\u001b[0;32m---> 86\u001b[0;31m             \u001b[0mtrain_data\u001b[0m \u001b[0;34m=\u001b[0m \u001b[0mcPickle\u001b[0m\u001b[0;34m.\u001b[0m\u001b[0mload\u001b[0m\u001b[0;34m(\u001b[0m\u001b[0mf\u001b[0m\u001b[0;34m)\u001b[0m\u001b[0;34m\u001b[0m\u001b[0m\n\u001b[0m\u001b[1;32m     87\u001b[0m             \u001b[0mtemp_x\u001b[0m \u001b[0;34m=\u001b[0m \u001b[0mtrain_data\u001b[0m\u001b[0;34m[\u001b[0m\u001b[0;34m'data'\u001b[0m\u001b[0;34m]\u001b[0m\u001b[0;34m\u001b[0m\u001b[0m\n\u001b[1;32m     88\u001b[0m             \u001b[0mtemp_y\u001b[0m \u001b[0;34m=\u001b[0m \u001b[0mtrain_data\u001b[0m\u001b[0;34m[\u001b[0m\u001b[0;34m'labels'\u001b[0m\u001b[0;34m]\u001b[0m\u001b[0;34m\u001b[0m\u001b[0m\n",
      "\u001b[0;31mKeyboardInterrupt\u001b[0m: "
     ]
    }
   ],
   "source": [
    "# Test for learning rate\n",
    "with tf.Graph().as_default(), tf.device(\"/cpu:0\"):\n",
    "    train_data, test_data = cifar10_input()\n",
    "    \n",
    "    x, y_ = train_data.dist_batch(BATCH_SIZE,20000)\n",
    "    test_batch = test_data.batch(200)\n",
    "\n",
    "    keep_prob = tf.placeholder(tf.float32)\n",
    "    lr = tf.placeholder(tf.float32)\n",
    "    opt = tf.train.GradientDescentOptimizer(lr)\n",
    "\n",
    "    with tf.device('/gpu:0'):\n",
    "        logit = model.inference(x, keep_prob, True)\n",
    "        loss = model.loss(logit, y_)\n",
    "        grads = opt.compute_gradients(loss)    \n",
    "    \n",
    "    train_op = opt.apply_gradients(grads)\n",
    "    sess = tf.Session()\n",
    "    \n",
    "    rate = 0.1\n",
    "    \n",
    "    sess.run(tf.initialize_all_variables())\n",
    "    tf.train.start_queue_runners(sess=sess)\n",
    "    for i in range(20):\n",
    "        _, cross_entropy = sess.run([train_op, loss], feed_dict = {keep_prob: 0.5, lr:rate})\n",
    "        print(\"step %d, cross_entropy %g\"%(i, cross_entropy))"
   ]
  },
  {
   "cell_type": "code",
   "execution_count": 4,
   "metadata": {
    "collapsed": true
   },
   "outputs": [
    {
     "name": "stdout",
     "output_type": "stream",
     "text": [
      "step 50, cross_entropy nan\n",
      "step 100, cross_entropy nan\n",
      "step 150, cross_entropy nan\n",
      "step 200, cross_entropy nan\n",
      "step 250, cross_entropy nan\n",
      "test accuracy 0\n",
      "step 300, cross_entropy nan\n"
     ]
    },
    {
     "ename": "KeyboardInterrupt",
     "evalue": "",
     "output_type": "error",
     "traceback": [
      "\u001b[0;31m---------------------------------------------------------------------------\u001b[0m",
      "\u001b[0;31mKeyboardInterrupt\u001b[0m                         Traceback (most recent call last)",
      "\u001b[0;32m<ipython-input-4-74419659213e>\u001b[0m in \u001b[0;36m<module>\u001b[0;34m()\u001b[0m\n\u001b[1;32m     31\u001b[0m         \u001b[0;32mfor\u001b[0m \u001b[0mi\u001b[0m \u001b[0;32min\u001b[0m \u001b[0mrange\u001b[0m\u001b[0;34m(\u001b[0m\u001b[0;36m20000\u001b[0m\u001b[0;34m)\u001b[0m\u001b[0;34m:\u001b[0m\u001b[0;34m\u001b[0m\u001b[0m\n\u001b[1;32m     32\u001b[0m             _, cross_entropy = sess.run([train_op, loss], feed_dict = {keep_prob: 0.5,\n\u001b[0;32m---> 33\u001b[0;31m                                                                        lr:rate})\n\u001b[0m\u001b[1;32m     34\u001b[0m             \u001b[0mmean_loss\u001b[0m \u001b[0;34m=\u001b[0m \u001b[0mmean_loss\u001b[0m \u001b[0;34m+\u001b[0m \u001b[0mcross_entropy\u001b[0m\u001b[0;34m/\u001b[0m\u001b[0;36m50\u001b[0m\u001b[0;34m\u001b[0m\u001b[0m\n\u001b[1;32m     35\u001b[0m \u001b[0;34m\u001b[0m\u001b[0m\n",
      "\u001b[0;32m/usr/local/lib/python2.7/dist-packages/tensorflow/python/client/session.pyc\u001b[0m in \u001b[0;36mrun\u001b[0;34m(self, fetches, feed_dict, options, run_metadata)\u001b[0m\n\u001b[1;32m    380\u001b[0m     \u001b[0;32mtry\u001b[0m\u001b[0;34m:\u001b[0m\u001b[0;34m\u001b[0m\u001b[0m\n\u001b[1;32m    381\u001b[0m       result = self._run(None, fetches, feed_dict, options_ptr,\n\u001b[0;32m--> 382\u001b[0;31m                          run_metadata_ptr)\n\u001b[0m\u001b[1;32m    383\u001b[0m       \u001b[0;32mif\u001b[0m \u001b[0mrun_metadata\u001b[0m\u001b[0;34m:\u001b[0m\u001b[0;34m\u001b[0m\u001b[0m\n\u001b[1;32m    384\u001b[0m         \u001b[0mproto_data\u001b[0m \u001b[0;34m=\u001b[0m \u001b[0mtf_session\u001b[0m\u001b[0;34m.\u001b[0m\u001b[0mTF_GetBuffer\u001b[0m\u001b[0;34m(\u001b[0m\u001b[0mrun_metadata_ptr\u001b[0m\u001b[0;34m)\u001b[0m\u001b[0;34m\u001b[0m\u001b[0m\n",
      "\u001b[0;32m/usr/local/lib/python2.7/dist-packages/tensorflow/python/client/session.pyc\u001b[0m in \u001b[0;36m_run\u001b[0;34m(self, handle, fetches, feed_dict, options, run_metadata)\u001b[0m\n\u001b[1;32m    653\u001b[0m     \u001b[0mmovers\u001b[0m \u001b[0;34m=\u001b[0m \u001b[0mself\u001b[0m\u001b[0;34m.\u001b[0m\u001b[0m_update_with_movers\u001b[0m\u001b[0;34m(\u001b[0m\u001b[0mfeed_dict_string\u001b[0m\u001b[0;34m,\u001b[0m \u001b[0mfeed_map\u001b[0m\u001b[0;34m)\u001b[0m\u001b[0;34m\u001b[0m\u001b[0m\n\u001b[1;32m    654\u001b[0m     results = self._do_run(handle, target_list, unique_fetches,\n\u001b[0;32m--> 655\u001b[0;31m                            feed_dict_string, options, run_metadata)\n\u001b[0m\u001b[1;32m    656\u001b[0m \u001b[0;34m\u001b[0m\u001b[0m\n\u001b[1;32m    657\u001b[0m     \u001b[0;31m# User may have fetched the same tensor multiple times, but we\u001b[0m\u001b[0;34m\u001b[0m\u001b[0;34m\u001b[0m\u001b[0m\n",
      "\u001b[0;32m/usr/local/lib/python2.7/dist-packages/tensorflow/python/client/session.pyc\u001b[0m in \u001b[0;36m_do_run\u001b[0;34m(self, handle, target_list, fetch_list, feed_dict, options, run_metadata)\u001b[0m\n\u001b[1;32m    721\u001b[0m     \u001b[0;32mif\u001b[0m \u001b[0mhandle\u001b[0m \u001b[0;32mis\u001b[0m \u001b[0mNone\u001b[0m\u001b[0;34m:\u001b[0m\u001b[0;34m\u001b[0m\u001b[0m\n\u001b[1;32m    722\u001b[0m       return self._do_call(_run_fn, self._session, feed_dict, fetch_list,\n\u001b[0;32m--> 723\u001b[0;31m                            target_list, options, run_metadata)\n\u001b[0m\u001b[1;32m    724\u001b[0m     \u001b[0;32melse\u001b[0m\u001b[0;34m:\u001b[0m\u001b[0;34m\u001b[0m\u001b[0m\n\u001b[1;32m    725\u001b[0m       return self._do_call(_prun_fn, self._session, handle, feed_dict,\n",
      "\u001b[0;32m/usr/local/lib/python2.7/dist-packages/tensorflow/python/client/session.pyc\u001b[0m in \u001b[0;36m_do_call\u001b[0;34m(self, fn, *args)\u001b[0m\n\u001b[1;32m    728\u001b[0m   \u001b[0;32mdef\u001b[0m \u001b[0m_do_call\u001b[0m\u001b[0;34m(\u001b[0m\u001b[0mself\u001b[0m\u001b[0;34m,\u001b[0m \u001b[0mfn\u001b[0m\u001b[0;34m,\u001b[0m \u001b[0;34m*\u001b[0m\u001b[0margs\u001b[0m\u001b[0;34m)\u001b[0m\u001b[0;34m:\u001b[0m\u001b[0;34m\u001b[0m\u001b[0m\n\u001b[1;32m    729\u001b[0m     \u001b[0;32mtry\u001b[0m\u001b[0;34m:\u001b[0m\u001b[0;34m\u001b[0m\u001b[0m\n\u001b[0;32m--> 730\u001b[0;31m       \u001b[0;32mreturn\u001b[0m \u001b[0mfn\u001b[0m\u001b[0;34m(\u001b[0m\u001b[0;34m*\u001b[0m\u001b[0margs\u001b[0m\u001b[0;34m)\u001b[0m\u001b[0;34m\u001b[0m\u001b[0m\n\u001b[0m\u001b[1;32m    731\u001b[0m     \u001b[0;32mexcept\u001b[0m \u001b[0merrors\u001b[0m\u001b[0;34m.\u001b[0m\u001b[0mOpError\u001b[0m \u001b[0;32mas\u001b[0m \u001b[0me\u001b[0m\u001b[0;34m:\u001b[0m\u001b[0;34m\u001b[0m\u001b[0m\n\u001b[1;32m    732\u001b[0m       \u001b[0mmessage\u001b[0m \u001b[0;34m=\u001b[0m \u001b[0mcompat\u001b[0m\u001b[0;34m.\u001b[0m\u001b[0mas_text\u001b[0m\u001b[0;34m(\u001b[0m\u001b[0me\u001b[0m\u001b[0;34m.\u001b[0m\u001b[0mmessage\u001b[0m\u001b[0;34m)\u001b[0m\u001b[0;34m\u001b[0m\u001b[0m\n",
      "\u001b[0;32m/usr/local/lib/python2.7/dist-packages/tensorflow/python/client/session.pyc\u001b[0m in \u001b[0;36m_run_fn\u001b[0;34m(session, feed_dict, fetch_list, target_list, options, run_metadata)\u001b[0m\n\u001b[1;32m    710\u001b[0m         return tf_session.TF_Run(session, options,\n\u001b[1;32m    711\u001b[0m                                  \u001b[0mfeed_dict\u001b[0m\u001b[0;34m,\u001b[0m \u001b[0mfetch_list\u001b[0m\u001b[0;34m,\u001b[0m \u001b[0mtarget_list\u001b[0m\u001b[0;34m,\u001b[0m\u001b[0;34m\u001b[0m\u001b[0m\n\u001b[0;32m--> 712\u001b[0;31m                                  status, run_metadata)\n\u001b[0m\u001b[1;32m    713\u001b[0m \u001b[0;34m\u001b[0m\u001b[0m\n\u001b[1;32m    714\u001b[0m     \u001b[0;32mdef\u001b[0m \u001b[0m_prun_fn\u001b[0m\u001b[0;34m(\u001b[0m\u001b[0msession\u001b[0m\u001b[0;34m,\u001b[0m \u001b[0mhandle\u001b[0m\u001b[0;34m,\u001b[0m \u001b[0mfeed_dict\u001b[0m\u001b[0;34m,\u001b[0m \u001b[0mfetch_list\u001b[0m\u001b[0;34m)\u001b[0m\u001b[0;34m:\u001b[0m\u001b[0;34m\u001b[0m\u001b[0m\n",
      "\u001b[0;31mKeyboardInterrupt\u001b[0m: "
     ]
    }
   ],
   "source": [
    "# Train in single GPU\n",
    "with tf.Graph().as_default(), tf.device(\"/cpu:0\"):\n",
    "        train_data, test_data = cifar10_input()\n",
    "        \n",
    "        train_batch = train_data.dist_batch(BATCH_SIZE, 20000)\n",
    "        images, labels = test_data.dist_batch(EVAL_SIZE, 4000)\n",
    "\n",
    "        keep_prob = tf.placeholder(tf.float32)\n",
    "        lr = tf.placeholder(tf.float32)\n",
    "\n",
    "        logit = model.inference(images, keep_prob, false)\n",
    "        accuracy = tf.reduce_mean(tf.cast(tf.nn.in_top_k(logit, labels, 1),tf.float32))\n",
    "        tf.get_variable_scope().reuse_variables()\n",
    "        \n",
    "        opt = tf.train.GradientDescentOptimizer(lr)\n",
    "\n",
    "        with tf.device('/gpu:0'):\n",
    "            with tf.name_scope('%s_%d' % ('tower', 0)) as scope:\n",
    "                loss = tower_loss(train_batch, scope)\n",
    "                grads = opt.compute_gradients(loss)    \n",
    "    \n",
    "        train_op = opt.apply_gradients(grads)\n",
    "        sess = tf.Session()\n",
    "        \n",
    "        rate = 0.1\n",
    "        mean_loss = 0.\n",
    "        least = 10.\n",
    "        count = 0.\n",
    "    \n",
    "        sess.run(tf.initialize_all_variables())\n",
    "        tf.train.start_queue_runners(sess=sess)\n",
    "        for i in range(20000):\n",
    "            _, cross_entropy = sess.run([train_op, loss], feed_dict = {keep_prob: 0.5,\n",
    "                                                                       lr:rate})\n",
    "            mean_loss = mean_loss + cross_entropy/50\n",
    "    \n",
    "            if i%50 == 0 and i>0:\n",
    "                print(\"step %d, cross_entropy %g\"%(i, mean_loss))\n",
    "      \n",
    "                if mean_loss > least:\n",
    "                    count = count+1\n",
    "                    if count > 4:\n",
    "                        rate = rate/2.0\n",
    "                        count = 0\n",
    "                    else:\n",
    "                        count = 0\n",
    "                        least = mean_loss\n",
    "                mean_loss=0\n",
    "        \n",
    "            if i%250 == 0 and i>0:\n",
    "                eval_accuracy = sess.run(accuracy)\n",
    "                print(\"test accuracy %g\"%(eval_accuracy))"
   ]
  },
  {
   "cell_type": "code",
   "execution_count": 3,
   "metadata": {
    "collapsed": false
   },
   "outputs": [],
   "source": [
    "# Train in multi GPU\n",
    "with tf.Graph().as_default(), tf.device(\"/cpu:0\"):\n",
    "        train_data, test_data = cifar10_input()\n",
    "        \n",
    "        train_batch = train_data.dist_batch(BATCH_SIZE, 20000)\n",
    "        images, labels = test_data.dist_batch(EVAL_SIZE, 4000)\n",
    "        \n",
    "        keep_prob = tf.placeholder(tf.float32)\n",
    "        \n",
    "        logit = model.inference(images, keep_prob, False, False)\n",
    "        accuracy = tf.reduce_mean(tf.cast(tf.nn.in_top_k(logit, labels, 1),tf.float32))\n",
    "        tf.get_variable_scope().reuse_variables()\n",
    "        \n",
    "        tower_grads = []\n",
    "        tower_losses = []\n",
    "        \n",
    "        lr = tf.placeholder(tf.float32)\n",
    "        opt = tf.train.GradientDescentOptimizer(lr)\n",
    "        \n",
    "        for i in range(NUM_GPUS):\n",
    "            with tf.device('/gpu:%d' % i):\n",
    "                with tf.name_scope('%s_%d' % ('tower', i)) as scope:\n",
    "                    loss = tower_loss(train_batch, scope, keep_prob, True)\n",
    "                    grads = opt.compute_gradients(loss)\n",
    "                    tower_losses.append(loss)\n",
    "                    tower_grads.append(grads)\n",
    "                    \n",
    "        grads = average_grads(tower_grads)\n",
    "        mean_loss = tf.reduce_mean(tower_losses)\n",
    "       \n",
    "        train_op = opt.apply_gradients(grads)\n",
    "    \n",
    "        sess = tf.Session()\n",
    "        \n",
    "        rate = 0.1\n",
    "        mean = 0.\n",
    "        highest = 0.\n",
    "        \n",
    "                \n",
    "        sess.run(tf.initialize_all_variables())\n",
    "        tf.train.start_queue_runners(sess=sess)"
   ]
  },
  {
   "cell_type": "code",
   "execution_count": null,
   "metadata": {
    "collapsed": false,
    "scrolled": true
   },
   "outputs": [],
   "source": [
    "rate = 0.1\n",
    "with tf.device('/cpu:0'):\n",
    "    for i in range(20000):\n",
    "            _, cross_entropy = sess.run([train_op, mean_loss], feed_dict = {keep_prob: 0.5,\n",
    "                                                                       lr:rate})\n",
    "            mean = mean + cross_entropy/200\n",
    "            if (i+1)%200 == 0 and i>0:\n",
    "                print(\"step %d, cross_entropy %g\"%(i, cross_entropy))          \n",
    "                mean=0.\n",
    "        \n",
    "            if (i+1)%200 == 0 and i>0:\n",
    "                eval_accuracy = sess.run(accuracy)\n",
    "                if eval_accuracy > highest:\n",
    "                    highest = eval_accuracy\n",
    "                print(\"test accuracy %g\"%(eval_accuracy))\n",
    "                \n",
    "    print(\"highest accuracy: %g\"%(highest))"
   ]
  },
  {
   "cell_type": "code",
   "execution_count": 8,
   "metadata": {
    "collapsed": true
   },
   "outputs": [
    {
     "name": "stdout",
     "output_type": "stream",
     "text": [
      "step 199, cross_entropy 0.0948039\n",
      "test accuracy 0.784\n",
      "step 399, cross_entropy 0.734466\n",
      "test accuracy 0.755\n",
      "step 599, cross_entropy 0.354488\n",
      "test accuracy 0.784\n",
      "step 799, cross_entropy 0.791492\n",
      "test accuracy 0.814\n",
      "step 999, cross_entropy 0.297589\n",
      "test accuracy 0.785\n",
      "step 1199, cross_entropy 0.391419\n",
      "test accuracy 0.771\n",
      "step 1399, cross_entropy 0.164679\n",
      "test accuracy 0.801\n",
      "step 1599, cross_entropy 0.289679\n",
      "test accuracy 0.793\n",
      "step 1799, cross_entropy 0.287635\n",
      "test accuracy 0.772\n",
      "step 1999, cross_entropy 0.26414\n",
      "test accuracy 0.787\n",
      "step 2199, cross_entropy 0.444175\n",
      "test accuracy 0.767\n",
      "step 2399, cross_entropy 0.236612\n",
      "test accuracy 0.789\n",
      "step 2599, cross_entropy 0.402675\n",
      "test accuracy 0.8\n",
      "step 2799, cross_entropy 0.158675\n",
      "test accuracy 0.779\n",
      "step 2999, cross_entropy 0.330457\n",
      "test accuracy 0.81\n",
      "step 3199, cross_entropy 0.975576\n",
      "test accuracy 0.803\n",
      "step 3399, cross_entropy 0.462285\n",
      "test accuracy 0.793\n",
      "step 3599, cross_entropy 0.154716\n",
      "test accuracy 0.771\n",
      "step 3799, cross_entropy 0.255983\n",
      "test accuracy 0.786\n",
      "step 3999, cross_entropy 0.461849\n",
      "test accuracy 0.792\n",
      "step 4199, cross_entropy 1.01796\n",
      "test accuracy 0.79\n",
      "step 4399, cross_entropy 0.418008\n",
      "test accuracy 0.786\n",
      "step 4599, cross_entropy 0.443957\n",
      "test accuracy 0.797\n",
      "step 4799, cross_entropy 0.947724\n",
      "test accuracy 0.774\n",
      "step 4999, cross_entropy 0.248162\n",
      "test accuracy 0.765\n",
      "step 5199, cross_entropy 0.491189\n",
      "test accuracy 0.787\n",
      "step 5399, cross_entropy 0.51131\n",
      "test accuracy 0.795\n",
      "step 5599, cross_entropy 0.267301\n",
      "test accuracy 0.79\n",
      "step 5799, cross_entropy 0.583739\n",
      "test accuracy 0.783\n",
      "step 5999, cross_entropy 0.308696\n",
      "test accuracy 0.791\n",
      "step 6199, cross_entropy 0.272115\n",
      "test accuracy 0.77\n",
      "step 6399, cross_entropy 0.636315\n",
      "test accuracy 0.769\n",
      "step 6599, cross_entropy 0.593051\n",
      "test accuracy 0.793\n",
      "step 6799, cross_entropy 0.492629\n",
      "test accuracy 0.801\n",
      "step 6999, cross_entropy 0.301984\n",
      "test accuracy 0.808\n",
      "step 7199, cross_entropy 0.333165\n",
      "test accuracy 0.785\n",
      "step 7399, cross_entropy 0.275246\n",
      "test accuracy 0.807\n",
      "step 7599, cross_entropy 0.536567\n",
      "test accuracy 0.791\n",
      "step 7799, cross_entropy 0.346521\n",
      "test accuracy 0.791\n",
      "step 7999, cross_entropy 0.625967\n",
      "test accuracy 0.807\n",
      "step 8199, cross_entropy 0.26718\n",
      "test accuracy 0.79\n",
      "step 8399, cross_entropy 0.550274\n",
      "test accuracy 0.777\n",
      "step 8599, cross_entropy 0.370708\n",
      "test accuracy 0.79\n",
      "step 8799, cross_entropy 0.44314\n",
      "test accuracy 0.782\n",
      "step 8999, cross_entropy 0.570212\n",
      "test accuracy 0.77\n",
      "step 9199, cross_entropy 0.25242\n",
      "test accuracy 0.785\n",
      "step 9399, cross_entropy 0.313303\n",
      "test accuracy 0.768\n",
      "step 9599, cross_entropy 0.670749\n",
      "test accuracy 0.782\n",
      "step 9799, cross_entropy 0.40314\n",
      "test accuracy 0.812\n",
      "step 9999, cross_entropy 0.537484\n",
      "test accuracy 0.796\n",
      "highest accuracy: 0.816\n"
     ]
    }
   ],
   "source": [
    "rate = 0.1\n",
    "with tf.device('/cpu:0'):\n",
    "    for i in range(10000):\n",
    "            _, cross_entropy = sess.run([train_op, mean_loss], feed_dict = {keep_prob: 0.5,\n",
    "                                                                       lr:rate})\n",
    "            mean = mean + cross_entropy/200\n",
    "            if (i+1)%200 == 0 and i>0:\n",
    "                print(\"step %d, cross_entropy %g\"%(i, cross_entropy))          \n",
    "                mean=0.\n",
    "        \n",
    "            if (i+1)%200 == 0 and i>0:\n",
    "                eval_accuracy = sess.run(accuracy)\n",
    "                if eval_accuracy > highest:\n",
    "                    highest = eval_accuracy\n",
    "                print(\"test accuracy %g\"%(eval_accuracy))\n",
    "                \n",
    "    print(\"highest accuracy: %g\"%(highest))"
   ]
  },
  {
   "cell_type": "code",
   "execution_count": 9,
   "metadata": {
    "collapsed": false
   },
   "outputs": [],
   "source": []
  },
  {
   "cell_type": "code",
   "execution_count": 9,
   "metadata": {
    "collapsed": false
   },
   "outputs": [
    {
     "data": {
      "text/plain": [
       "'update_ops'"
      ]
     },
     "execution_count": 9,
     "metadata": {},
     "output_type": "execute_result"
    }
   ],
   "source": [
    "tf.GraphKeys.UPDATE_OPS"
   ]
  },
  {
   "cell_type": "code",
   "execution_count": 17,
   "metadata": {
    "collapsed": false
   },
   "outputs": [
    {
     "data": {
      "text/plain": [
       "[41, 41, 41, 41, 41, 41, 41, 41]"
      ]
     },
     "execution_count": 17,
     "metadata": {},
     "output_type": "execute_result"
    }
   ],
   "source": [
    "[len(list_grads[i]) for i in range(len(list_grads))]"
   ]
  },
  {
   "cell_type": "code",
   "execution_count": 4,
   "metadata": {
    "collapsed": false
   },
   "outputs": [
    {
     "data": {
      "text/plain": [
       "(None, <tensorflow.python.ops.variables.Variable at 0x7fa5fd845490>)"
      ]
     },
     "execution_count": 4,
     "metadata": {},
     "output_type": "execute_result"
    }
   ],
   "source": [
    "tower_grads[0][26]"
   ]
  },
  {
   "cell_type": "code",
   "execution_count": 15,
   "metadata": {
    "collapsed": true
   },
   "outputs": [
    {
     "ename": "TypeError",
     "evalue": "Expected binary or unicode string, got None",
     "output_type": "error",
     "traceback": [
      "\u001b[0;31m---------------------------------------------------------------------------\u001b[0m",
      "\u001b[0;31mTypeError\u001b[0m                                 Traceback (most recent call last)",
      "\u001b[0;32m<ipython-input-15-cce0e8ab5081>\u001b[0m in \u001b[0;36m<module>\u001b[0;34m()\u001b[0m\n\u001b[1;32m      1\u001b[0m [(tf.reduce_mean([list_grads[j][i][0] for j in range(len(list_grads))],[0]),\n\u001b[0;32m----> 2\u001b[0;31m              list_grads[0][i][1]) for i in range(len(list_grads[0]))]\n\u001b[0m",
      "\u001b[0;32m/usr/local/lib/python2.7/dist-packages/tensorflow/python/ops/math_ops.pyc\u001b[0m in \u001b[0;36mreduce_mean\u001b[0;34m(input_tensor, reduction_indices, keep_dims, name)\u001b[0m\n\u001b[1;32m   1087\u001b[0m   return gen_math_ops._mean(input_tensor, _ReductionDims(input_tensor,\n\u001b[1;32m   1088\u001b[0m                                                          reduction_indices),\n\u001b[0;32m-> 1089\u001b[0;31m                             keep_dims, name=name)\n\u001b[0m\u001b[1;32m   1090\u001b[0m \u001b[0;34m\u001b[0m\u001b[0m\n\u001b[1;32m   1091\u001b[0m \u001b[0;34m\u001b[0m\u001b[0m\n",
      "\u001b[0;32m/usr/local/lib/python2.7/dist-packages/tensorflow/python/ops/gen_math_ops.pyc\u001b[0m in \u001b[0;36m_mean\u001b[0;34m(input, reduction_indices, keep_dims, name)\u001b[0m\n\u001b[1;32m   1343\u001b[0m   result = _op_def_lib.apply_op(\"Mean\", input=input,\n\u001b[1;32m   1344\u001b[0m                                 \u001b[0mreduction_indices\u001b[0m\u001b[0;34m=\u001b[0m\u001b[0mreduction_indices\u001b[0m\u001b[0;34m,\u001b[0m\u001b[0;34m\u001b[0m\u001b[0m\n\u001b[0;32m-> 1345\u001b[0;31m                                 keep_dims=keep_dims, name=name)\n\u001b[0m\u001b[1;32m   1346\u001b[0m   \u001b[0;32mreturn\u001b[0m \u001b[0mresult\u001b[0m\u001b[0;34m\u001b[0m\u001b[0m\n\u001b[1;32m   1347\u001b[0m \u001b[0;34m\u001b[0m\u001b[0m\n",
      "\u001b[0;32m/usr/local/lib/python2.7/dist-packages/tensorflow/python/framework/op_def_library.pyc\u001b[0m in \u001b[0;36mapply_op\u001b[0;34m(self, op_type_name, name, **keywords)\u001b[0m\n\u001b[1;32m    452\u001b[0m             values = ops.convert_to_tensor(\n\u001b[1;32m    453\u001b[0m                 \u001b[0mvalues\u001b[0m\u001b[0;34m,\u001b[0m \u001b[0mname\u001b[0m\u001b[0;34m=\u001b[0m\u001b[0minput_arg\u001b[0m\u001b[0;34m.\u001b[0m\u001b[0mname\u001b[0m\u001b[0;34m,\u001b[0m \u001b[0mdtype\u001b[0m\u001b[0;34m=\u001b[0m\u001b[0mdtype\u001b[0m\u001b[0;34m,\u001b[0m\u001b[0;34m\u001b[0m\u001b[0m\n\u001b[0;32m--> 454\u001b[0;31m                 as_ref=input_arg.is_ref)\n\u001b[0m\u001b[1;32m    455\u001b[0m           \u001b[0;32mexcept\u001b[0m \u001b[0mValueError\u001b[0m\u001b[0;34m:\u001b[0m\u001b[0;34m\u001b[0m\u001b[0m\n\u001b[1;32m    456\u001b[0m             \u001b[0;31m# What type does convert_to_tensor think it has?\u001b[0m\u001b[0;34m\u001b[0m\u001b[0;34m\u001b[0m\u001b[0m\n",
      "\u001b[0;32m/usr/local/lib/python2.7/dist-packages/tensorflow/python/framework/ops.pyc\u001b[0m in \u001b[0;36mconvert_to_tensor\u001b[0;34m(value, dtype, name, as_ref)\u001b[0m\n\u001b[1;32m    619\u001b[0m     \u001b[0;32mfor\u001b[0m \u001b[0mbase_type\u001b[0m\u001b[0;34m,\u001b[0m \u001b[0mconversion_func\u001b[0m \u001b[0;32min\u001b[0m \u001b[0mfuncs_at_priority\u001b[0m\u001b[0;34m:\u001b[0m\u001b[0;34m\u001b[0m\u001b[0m\n\u001b[1;32m    620\u001b[0m       \u001b[0;32mif\u001b[0m \u001b[0misinstance\u001b[0m\u001b[0;34m(\u001b[0m\u001b[0mvalue\u001b[0m\u001b[0;34m,\u001b[0m \u001b[0mbase_type\u001b[0m\u001b[0;34m)\u001b[0m\u001b[0;34m:\u001b[0m\u001b[0;34m\u001b[0m\u001b[0m\n\u001b[0;32m--> 621\u001b[0;31m         \u001b[0mret\u001b[0m \u001b[0;34m=\u001b[0m \u001b[0mconversion_func\u001b[0m\u001b[0;34m(\u001b[0m\u001b[0mvalue\u001b[0m\u001b[0;34m,\u001b[0m \u001b[0mdtype\u001b[0m\u001b[0;34m=\u001b[0m\u001b[0mdtype\u001b[0m\u001b[0;34m,\u001b[0m \u001b[0mname\u001b[0m\u001b[0;34m=\u001b[0m\u001b[0mname\u001b[0m\u001b[0;34m,\u001b[0m \u001b[0mas_ref\u001b[0m\u001b[0;34m=\u001b[0m\u001b[0mas_ref\u001b[0m\u001b[0;34m)\u001b[0m\u001b[0;34m\u001b[0m\u001b[0m\n\u001b[0m\u001b[1;32m    622\u001b[0m         \u001b[0;32mif\u001b[0m \u001b[0mret\u001b[0m \u001b[0;32mis\u001b[0m \u001b[0mNotImplemented\u001b[0m\u001b[0;34m:\u001b[0m\u001b[0;34m\u001b[0m\u001b[0m\n\u001b[1;32m    623\u001b[0m           \u001b[0;32mcontinue\u001b[0m\u001b[0;34m\u001b[0m\u001b[0m\n",
      "\u001b[0;32m/usr/local/lib/python2.7/dist-packages/tensorflow/python/framework/constant_op.pyc\u001b[0m in \u001b[0;36m_constant_tensor_conversion_function\u001b[0;34m(v, dtype, name, as_ref)\u001b[0m\n\u001b[1;32m    178\u001b[0m                                          as_ref=False):\n\u001b[1;32m    179\u001b[0m   \u001b[0m_\u001b[0m \u001b[0;34m=\u001b[0m \u001b[0mas_ref\u001b[0m\u001b[0;34m\u001b[0m\u001b[0m\n\u001b[0;32m--> 180\u001b[0;31m   \u001b[0;32mreturn\u001b[0m \u001b[0mconstant\u001b[0m\u001b[0;34m(\u001b[0m\u001b[0mv\u001b[0m\u001b[0;34m,\u001b[0m \u001b[0mdtype\u001b[0m\u001b[0;34m=\u001b[0m\u001b[0mdtype\u001b[0m\u001b[0;34m,\u001b[0m \u001b[0mname\u001b[0m\u001b[0;34m=\u001b[0m\u001b[0mname\u001b[0m\u001b[0;34m)\u001b[0m\u001b[0;34m\u001b[0m\u001b[0m\n\u001b[0m\u001b[1;32m    181\u001b[0m \u001b[0;34m\u001b[0m\u001b[0m\n\u001b[1;32m    182\u001b[0m \u001b[0;34m\u001b[0m\u001b[0m\n",
      "\u001b[0;32m/usr/local/lib/python2.7/dist-packages/tensorflow/python/framework/constant_op.pyc\u001b[0m in \u001b[0;36mconstant\u001b[0;34m(value, dtype, shape, name)\u001b[0m\n\u001b[1;32m    161\u001b[0m   \u001b[0mtensor_value\u001b[0m \u001b[0;34m=\u001b[0m \u001b[0mattr_value_pb2\u001b[0m\u001b[0;34m.\u001b[0m\u001b[0mAttrValue\u001b[0m\u001b[0;34m(\u001b[0m\u001b[0;34m)\u001b[0m\u001b[0;34m\u001b[0m\u001b[0m\n\u001b[1;32m    162\u001b[0m   tensor_value.tensor.CopyFrom(\n\u001b[0;32m--> 163\u001b[0;31m       tensor_util.make_tensor_proto(value, dtype=dtype, shape=shape))\n\u001b[0m\u001b[1;32m    164\u001b[0m   \u001b[0mdtype_value\u001b[0m \u001b[0;34m=\u001b[0m \u001b[0mattr_value_pb2\u001b[0m\u001b[0;34m.\u001b[0m\u001b[0mAttrValue\u001b[0m\u001b[0;34m(\u001b[0m\u001b[0mtype\u001b[0m\u001b[0;34m=\u001b[0m\u001b[0mtensor_value\u001b[0m\u001b[0;34m.\u001b[0m\u001b[0mtensor\u001b[0m\u001b[0;34m.\u001b[0m\u001b[0mdtype\u001b[0m\u001b[0;34m)\u001b[0m\u001b[0;34m\u001b[0m\u001b[0m\n\u001b[1;32m    165\u001b[0m   const_tensor = g.create_op(\n",
      "\u001b[0;32m/usr/local/lib/python2.7/dist-packages/tensorflow/python/framework/tensor_util.pyc\u001b[0m in \u001b[0;36mmake_tensor_proto\u001b[0;34m(values, dtype, shape)\u001b[0m\n\u001b[1;32m    419\u001b[0m   \u001b[0;32mif\u001b[0m \u001b[0mnumpy_dtype\u001b[0m \u001b[0;34m==\u001b[0m \u001b[0mdtypes\u001b[0m\u001b[0;34m.\u001b[0m\u001b[0mstring\u001b[0m \u001b[0;32mand\u001b[0m \u001b[0;32mnot\u001b[0m \u001b[0misinstance\u001b[0m\u001b[0;34m(\u001b[0m\u001b[0mvalues\u001b[0m\u001b[0;34m,\u001b[0m \u001b[0mnp\u001b[0m\u001b[0;34m.\u001b[0m\u001b[0mndarray\u001b[0m\u001b[0;34m)\u001b[0m\u001b[0;34m:\u001b[0m\u001b[0;34m\u001b[0m\u001b[0m\n\u001b[1;32m    420\u001b[0m     \u001b[0mproto_values\u001b[0m \u001b[0;34m=\u001b[0m \u001b[0m_FlattenToStrings\u001b[0m\u001b[0;34m(\u001b[0m\u001b[0mvalues\u001b[0m\u001b[0;34m)\u001b[0m\u001b[0;34m\u001b[0m\u001b[0m\n\u001b[0;32m--> 421\u001b[0;31m     \u001b[0mtensor_proto\u001b[0m\u001b[0;34m.\u001b[0m\u001b[0mstring_val\u001b[0m\u001b[0;34m.\u001b[0m\u001b[0mextend\u001b[0m\u001b[0;34m(\u001b[0m\u001b[0;34m[\u001b[0m\u001b[0mcompat\u001b[0m\u001b[0;34m.\u001b[0m\u001b[0mas_bytes\u001b[0m\u001b[0;34m(\u001b[0m\u001b[0mx\u001b[0m\u001b[0;34m)\u001b[0m \u001b[0;32mfor\u001b[0m \u001b[0mx\u001b[0m \u001b[0;32min\u001b[0m \u001b[0mproto_values\u001b[0m\u001b[0;34m]\u001b[0m\u001b[0;34m)\u001b[0m\u001b[0;34m\u001b[0m\u001b[0m\n\u001b[0m\u001b[1;32m    422\u001b[0m     \u001b[0;32mreturn\u001b[0m \u001b[0mtensor_proto\u001b[0m\u001b[0;34m\u001b[0m\u001b[0m\n\u001b[1;32m    423\u001b[0m \u001b[0;34m\u001b[0m\u001b[0m\n",
      "\u001b[0;32m/usr/local/lib/python2.7/dist-packages/tensorflow/python/util/compat.pyc\u001b[0m in \u001b[0;36mas_bytes\u001b[0;34m(bytes_or_text)\u001b[0m\n\u001b[1;32m     43\u001b[0m   \u001b[0;32melse\u001b[0m\u001b[0;34m:\u001b[0m\u001b[0;34m\u001b[0m\u001b[0m\n\u001b[1;32m     44\u001b[0m     raise TypeError('Expected binary or unicode string, got %r' %\n\u001b[0;32m---> 45\u001b[0;31m                     (bytes_or_text,))\n\u001b[0m\u001b[1;32m     46\u001b[0m \u001b[0;34m\u001b[0m\u001b[0m\n\u001b[1;32m     47\u001b[0m \u001b[0;34m\u001b[0m\u001b[0m\n",
      "\u001b[0;31mTypeError\u001b[0m: Expected binary or unicode string, got None"
     ]
    }
   ],
   "source": [
    "[(tf.reduce_mean([list_grads[j][i][0] for j in range(len(list_grads))],[0]),\n",
    "             list_grads[0][i][1]) for i in range(len(list_grads[0]))]"
   ]
  },
  {
   "cell_type": "code",
   "execution_count": null,
   "metadata": {
    "collapsed": true
   },
   "outputs": [],
   "source": []
  }
 ],
 "metadata": {
  "kernelspec": {
   "display_name": "Python 2",
   "language": "python",
   "name": "python2"
  },
  "language_info": {
   "codemirror_mode": {
    "name": "ipython",
    "version": 2
   },
   "file_extension": ".py",
   "mimetype": "text/x-python",
   "name": "python",
   "nbconvert_exporter": "python",
   "pygments_lexer": "ipython2",
   "version": "2.7.6"
  }
 },
 "nbformat": 4,
 "nbformat_minor": 0
}
